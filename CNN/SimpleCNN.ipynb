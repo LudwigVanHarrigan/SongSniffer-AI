{
 "cells": [
  {
   "cell_type": "code",
   "execution_count": null,
   "id": "ca1cd265",
   "metadata": {},
   "outputs": [],
   "source": [
    "# TODO:\n",
    "# 1) Make dataset include Mel spectrograms\n",
    "# 2) Make small CNN \n",
    "# 3) Train it"
   ]
  }
 ],
 "metadata": {
  "kernelspec": {
   "display_name": "DL_gpu",
   "language": "python",
   "name": "python3"
  },
  "language_info": {
   "name": "python",
   "version": "3.11.2"
  }
 },
 "nbformat": 4,
 "nbformat_minor": 5
}
